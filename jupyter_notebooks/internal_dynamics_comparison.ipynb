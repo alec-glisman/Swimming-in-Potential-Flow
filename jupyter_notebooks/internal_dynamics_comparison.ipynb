{
 "cells": [
  {
   "cell_type": "code",
   "execution_count": 1,
   "source": [
    "import os                          # Access system file-tree\n",
    "import sys                         # Modify system parameters\n",
    "\n",
    "import numpy as np                 # Data structures\n",
    "import pandas as pd                # Data structures\n",
    "\n",
    "import matplotlib.ticker as mticker  # Scientific notation in labels\n",
    "from matplotlib.ticker import FuncFormatter\n",
    "\n",
    "# Global options for external dependencies\n",
    "np.set_printoptions(threshold=sys.maxsize, precision=16)"
   ],
   "outputs": [],
   "metadata": {}
  },
  {
   "cell_type": "code",
   "execution_count": 2,
   "source": [
    "# Internal Dependencies\n",
    "internalPath = os.getcwd() + \"/../python\"\n",
    "print(internalPath)\n",
    "sys.path.insert(0, internalPath)\n",
    "\n",
    "from plotStyling import PlotStyling  # noqa: E402\n",
    "from simulationDataLoad import gsd_df"
   ],
   "outputs": [
    {
     "output_type": "stream",
     "name": "stdout",
     "text": [
      "/home/aglisman/Dropbox/3_Brady_Lab/Code/potential-flow/bodies-in-potential-flow/jupyter_notebooks/../python\n"
     ]
    }
   ],
   "metadata": {}
  },
  {
   "cell_type": "code",
   "execution_count": 3,
   "source": [
    "# Parameters\n",
    "data_source = [\"v1.0.0_output_last_frame\", \"v1.5.1\", \"v1.6.1\"]\n",
    "parameters_varied = [\"varyRelDisp\"]\n",
    "eps_output = True\n",
    "output_dir = \"figures\"\n",
    "\n",
    "# Paths\n",
    "cwd = os.getcwd()\n",
    "relative_path_base = [cwd + \"/../data_tag/\" + d for d in data_source]\n",
    "output_dir = cwd + \"/internal_dynamics_comparison\""
   ],
   "outputs": [],
   "metadata": {}
  },
  {
   "cell_type": "code",
   "execution_count": 4,
   "source": [
    "# Correctly get scientific notation in text elements\n",
    "def scientific(x, pos):\n",
    "    return '%0.2e' % x\n",
    "\n",
    "\n",
    "scientific_formatter = FuncFormatter(scientific)\n",
    "fmt = mticker.FuncFormatter(scientific_formatter)"
   ],
   "outputs": [],
   "metadata": {}
  },
  {
   "cell_type": "code",
   "execution_count": 5,
   "source": [
    "# Data output parameters\n",
    "saved_data_file = output_dir + \"/data.pkl\"\n",
    "\n",
    "# Try making output dir if not exists\n",
    "try:\n",
    "    os.mkdir(output_dir)\n",
    "except FileExistsError:\n",
    "    pass\n",
    "\n",
    "# Load data from source or pickle\n",
    "if os.path.exists(saved_data_file):\n",
    "    all_data_df = pd.read_pickle(saved_data_file, compression='xz')\n",
    "else:\n",
    "    all_data_df = gsd_df(relative_path_base, parameters_varied)\n",
    "    all_data_df.to_pickle(saved_data_file, compression='xz')"
   ],
   "outputs": [],
   "metadata": {}
  },
  {
   "cell_type": "code",
   "execution_count": null,
   "source": [
    "# Preview data\n",
    "print((len(all_data_df)))\n",
    "all_data_df.head()"
   ],
   "outputs": [],
   "metadata": {}
  },
  {
   "cell_type": "code",
   "execution_count": null,
   "source": [],
   "outputs": [],
   "metadata": {}
  }
 ],
 "metadata": {
  "orig_nbformat": 4,
  "language_info": {
   "name": "python",
   "version": "3.9.6",
   "mimetype": "text/x-python",
   "codemirror_mode": {
    "name": "ipython",
    "version": 3
   },
   "pygments_lexer": "ipython3",
   "nbconvert_exporter": "python",
   "file_extension": ".py"
  },
  "kernelspec": {
   "name": "python3",
   "display_name": "Python 3.9.6 64-bit"
  },
  "interpreter": {
   "hash": "a9c18bac4c89a725dce0e1ccc3bf66fe8f6b43684dbc7d5b407b057202688cd1"
  }
 },
 "nbformat": 4,
 "nbformat_minor": 2
}