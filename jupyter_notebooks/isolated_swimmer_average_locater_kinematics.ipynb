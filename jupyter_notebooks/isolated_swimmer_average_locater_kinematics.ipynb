{
 "cells": [
  {
   "cell_type": "code",
   "execution_count": 1,
   "source": [
    "\n",
    "# External Dependencies\n",
    "import os                          # Access system file-tree\n",
    "import sys                         # Modify system parameters\n",
    "from math import isclose           # isclose()\n",
    "import numpy as np                 # Data structures\n",
    "from optparse import OptionParser  # Get user input\n",
    "import matplotlib.ticker as mticker  # Scientific notation in labels\n",
    "from matplotlib.ticker import FuncFormatter\n",
    "\n",
    "np.set_printoptions(threshold=sys.maxsize, precision=16)"
   ],
   "outputs": [],
   "metadata": {}
  },
  {
   "cell_type": "code",
   "execution_count": 2,
   "source": [
    "# Internal Dependencies\n",
    "internalPath = os.getcwd() + \"/../python\"\n",
    "print(internalPath)\n",
    "sys.path.insert(0, internalPath)\n",
    "from plotStyling import PlotStyling  # noqa: E402\n",
    "from GSDUtil import GSDUtil  # noqa: E402"
   ],
   "outputs": [
    {
     "output_type": "stream",
     "name": "stdout",
     "text": [
      "/home/aglisman/Dropbox/3_Brady_Lab/Code/potential-flow/bodies-in-potential-flow/jupyter_notebooks/../python\n"
     ]
    }
   ],
   "metadata": {}
  },
  {
   "cell_type": "code",
   "execution_count": 3,
   "source": [
    "# Parameters\n",
    "relative_path_base = os.getcwd() + \"/../data_tag/v1.0.0_output_last_frame\"\n",
    "relative_path = relative_path_base + \"/2021-08-27.09-57-48_collinear-swimmer_varyRelDisp\"\n",
    "output_dir = \"figures\"\n",
    "output_dir = relative_path + \"/\" + output_dir + \"/\"\n",
    "gsd_files = []\n",
    "epsOutput = True\n",
    "\n",
    "\n",
    "# Correctly get scientific notation in text elements\n",
    "def scientific(x, pos):\n",
    "    return '%0.2e' % x\n",
    "\n",
    "\n",
    "scientific_formatter = FuncFormatter(scientific)\n",
    "fmt = mticker.FuncFormatter(scientific_formatter)"
   ],
   "outputs": [],
   "metadata": {}
  },
  {
   "cell_type": "code",
   "execution_count": 15,
   "source": [
    "# Decompress data\n",
    "\n",
    "os.system(f\"\\\\cat {relative_path}.tar.xz.parta* > {relative_path}.tar.xz\")\n",
    "os.system(f\"tar xvf {relative_path}.tar.xz -C {relative_path_base}\")"
   ],
   "outputs": [
    {
     "output_type": "execute_result",
     "data": {
      "text/plain": [
       "0"
      ]
     },
     "metadata": {},
     "execution_count": 15
    }
   ],
   "metadata": {}
  },
  {
   "cell_type": "code",
   "execution_count": 16,
   "source": [
    "# Load data from GSD\n",
    "\n",
    "try:\n",
    "    # Loop through all subdirectories in the 'data' directory\n",
    "    for root, dirs, files in os.walk(relative_path, topdown=True):\n",
    "        dirs.sort()\n",
    "        files.sort()\n",
    "\n",
    "        for file in files:  # Loop through all files in given directory\n",
    "            if (\".gsd\" in file):\n",
    "                with open(root + \"/\" + file) as g:\n",
    "                    cur_gsd = GSDUtil(g.name, create_gsd=False)\n",
    "                    gsd_files.append(cur_gsd)\n",
    "\n",
    "    assert(len(gsd_files) > 0)\n",
    "\n",
    "except:  # No files found\n",
    "    raise IOError(\n",
    "        f\"Failure to load data. No files found in relPath {relative_path}\")"
   ],
   "outputs": [],
   "metadata": {}
  },
  {
   "cell_type": "code",
   "execution_count": 17,
   "source": [
    "# Remove decompressed data\n",
    "\n",
    "os.system(f\"rm -rf {relative_path}.tar.xz\")\n",
    "os.system(f\"rm -rf {relative_path}\")"
   ],
   "outputs": [
    {
     "output_type": "execute_result",
     "data": {
      "text/plain": [
       "0"
      ]
     },
     "metadata": {},
     "execution_count": 17
    }
   ],
   "metadata": {}
  },
  {
   "cell_type": "code",
   "execution_count": 18,
   "source": [
    "# Load data into np structures\n",
    "\n",
    "CoM_disp = np.zeros(len(gsd_files), dtype=np.double)\n",
    "R_avg = np.zeros_like(CoM_disp, dtype=np.double)\n",
    "phaseShift = np.zeros_like(CoM_disp, dtype=np.double)\n",
    "U0 = np.zeros_like(CoM_disp, dtype=np.double)\n",
    "omega = np.zeros_like(CoM_disp, dtype=np.double)\n",
    "epsilon = np.zeros_like(CoM_disp, dtype=np.double)\n",
    "final_t = np.zeros_like(CoM_disp, dtype=np.double)\n",
    "\n",
    "for i in range(len(gsd_files)):\n",
    "\n",
    "    # Data from final frame\n",
    "    gsd_files[i].snapshot = gsd_files[i].trajectory.read_frame(\n",
    "        gsd_files[i].trajectory.file.nframes - 1)\n",
    "    final_t[i] = gsd_files[i].snapshot.log['integrator/t']\n",
    "    CoM_disp_comp = gsd_files[i].snapshot.log['particles/double_position'][1]\n",
    "\n",
    "    # Data from initial frame (not 0)\n",
    "    gsd_files[i].snapshot = gsd_files[i].trajectory.read_frame(1)\n",
    "    R_avg[i] = gsd_files[i].snapshot.log['swimmer/R_avg']\n",
    "    phaseShift[i] = gsd_files[i].snapshot.log['swimmer/phase_shift']\n",
    "    U0[i] = gsd_files[i].snapshot.log['swimmer/U0']\n",
    "    omega[i] = gsd_files[i].snapshot.log['swimmer/omega']\n",
    "    epsilon[i] = U0[i] / R_avg[i] / omega[i]\n",
    "    CoM_disp_comp -= gsd_files[i].snapshot.log['particles/double_position'][1]\n",
    "\n",
    "    CoM_disp[i] = np.linalg.norm(CoM_disp_comp)"
   ],
   "outputs": [],
   "metadata": {}
  },
  {
   "cell_type": "code",
   "execution_count": 19,
   "source": [
    "# NOTE: Assuming each GSD has same number of frames\n",
    "nframes = gsd_files[0].trajectory.file.nframes\n",
    "\n",
    "# ANCHOR: Orientation vector (not unit norm)\n",
    "q = np.zeros((len(gsd_files), 3, nframes - 2), dtype=np.double)\n",
    "q0 = np.zeros((len(gsd_files), 3), dtype=np.double)\n",
    "\n",
    "# ANCHOR: temporal data\n",
    "time = np.zeros((len(gsd_files), nframes - 2), dtype=np.double)\n",
    "\n",
    "# ANCHOR: kinematic data (simulation_number, particle_number, dimension_number, frame_number)\n",
    "positions = np.zeros((len(gsd_files), 3, 3, nframes - 2), dtype=np.double)\n",
    "velocities = np.zeros_like(positions, dtype=np.double)\n",
    "accelerations = np.zeros_like(positions, dtype=np.double)"
   ],
   "outputs": [],
   "metadata": {}
  },
  {
   "cell_type": "code",
   "execution_count": 20,
   "source": [
    "for i in range(len(gsd_files)):  # loop over all GSD files\n",
    "\n",
    "    gsd_current = gsd_files[i]\n",
    "    q_current = np.zeros((3, nframes - 2), dtype=np.double)\n",
    "    q_current_norm = np.zeros((nframes - 2), dtype=np.double)\n",
    "\n",
    "    for j in range(1, nframes - 1):  # loop over all frames in GSD file\n",
    "\n",
    "        snapshot_current = gsd_current.trajectory.read_frame(j)\n",
    "\n",
    "        q_current[:, j - 1] = snapshot_current.log['particles/double_position'][0]\n",
    "        q_current[:, j - 1] -= snapshot_current.log['particles/double_position'][2]\n",
    "\n",
    "        time[i, j - 1] = snapshot_current.log['integrator/t']\n",
    "\n",
    "        positions[i, :, :, j -\n",
    "                  1] = snapshot_current.log['particles/double_position']\n",
    "        velocities[i, :, :, j -\n",
    "                   1] = snapshot_current.log['particles/double_velocity']\n",
    "        accelerations[i, :, :,  -\n",
    "                      1] = snapshot_current.log['particles/double_moment_inertia']\n",
    "\n",
    "    q[i, :, :] = q_current\n",
    "\n",
    "q0 = q[:, :, 0]"
   ],
   "outputs": [],
   "metadata": {}
  },
  {
   "cell_type": "code",
   "execution_count": 21,
   "source": [
    "q0 = q[:, :, 0]\n",
    "q0_norm = np.linalg.norm(q0, axis=1)\n",
    "q0 = np.divide(q0, q0_norm[:, np.newaxis])\n",
    "\n",
    "print(q0)"
   ],
   "outputs": [
    {
     "output_type": "stream",
     "name": "stdout",
     "text": [
      "[[1. 0. 0.]\n",
      " [1. 0. 0.]\n",
      " [1. 0. 0.]\n",
      " [1. 0. 0.]\n",
      " [1. 0. 0.]\n",
      " [1. 0. 0.]\n",
      " [1. 0. 0.]\n",
      " [1. 0. 0.]\n",
      " [1. 0. 0.]\n",
      " [1. 0. 0.]\n",
      " [1. 0. 0.]\n",
      " [1. 0. 0.]\n",
      " [1. 0. 0.]\n",
      " [1. 0. 0.]\n",
      " [1. 0. 0.]\n",
      " [1. 0. 0.]\n",
      " [1. 0. 0.]\n",
      " [1. 0. 0.]\n",
      " [1. 0. 0.]\n",
      " [1. 0. 0.]\n",
      " [1. 0. 0.]\n",
      " [1. 0. 0.]\n",
      " [1. 0. 0.]\n",
      " [1. 0. 0.]\n",
      " [1. 0. 0.]\n",
      " [1. 0. 0.]\n",
      " [1. 0. 0.]\n",
      " [1. 0. 0.]\n",
      " [1. 0. 0.]\n",
      " [1. 0. 0.]\n",
      " [1. 0. 0.]\n",
      " [1. 0. 0.]\n",
      " [1. 0. 0.]\n",
      " [1. 0. 0.]\n",
      " [1. 0. 0.]\n",
      " [1. 0. 0.]\n",
      " [1. 0. 0.]\n",
      " [1. 0. 0.]\n",
      " [1. 0. 0.]\n",
      " [1. 0. 0.]\n",
      " [1. 0. 0.]\n",
      " [1. 0. 0.]\n",
      " [1. 0. 0.]\n",
      " [1. 0. 0.]\n",
      " [1. 0. 0.]\n",
      " [1. 0. 0.]\n",
      " [1. 0. 0.]\n",
      " [1. 0. 0.]\n",
      " [1. 0. 0.]\n",
      " [1. 0. 0.]\n",
      " [1. 0. 0.]\n",
      " [1. 0. 0.]\n",
      " [1. 0. 0.]]\n"
     ]
    }
   ],
   "metadata": {}
  },
  {
   "cell_type": "code",
   "execution_count": 23,
   "source": [
    "# ANCHOR: Angular orientational displacement\n",
    "theta = np.zeros((len(gsd_files), nframes - 2), dtype=np.double)\n",
    "theta_norm = np.zeros((nframes - 2), dtype=np.double)\n",
    "\n",
    "for i in range(len(gsd_files)):\n",
    "\n",
    "    theta[i, :] = np.dot(q0[i, :].reshape(1, 3), q[i, :, :])\n",
    "\n",
    "    print(np.array(theta[i, 0] - theta[i, -1], dtype=np.double))\n",
    "\n",
    "    theta_norm = np.linalg.norm(q0[i, :]) * np.linalg.norm(q[i, :, :], axis=0)\n",
    "    theta[i, :] = theta[i, :] / theta_norm\n",
    "\n",
    "print(np.array(theta[:, 0] - theta[:, -1], dtype=np.double))"
   ],
   "outputs": [
    {
     "output_type": "stream",
     "name": "stdout",
     "text": [
      "2.1014123774421023e-10\n",
      "2.1043167208745217e-10\n",
      "2.1018387030835584e-10\n",
      "2.1030466257343505e-10\n",
      "2.1049473275525088e-10\n",
      "2.1011992146213743e-10\n",
      "2.1051960175100248e-10\n",
      "2.100195573007113e-10\n",
      "2.1033397246128516e-10\n",
      "2.1027446450716525e-10\n",
      "2.1038637498804746e-10\n",
      "2.1025314822509245e-10\n",
      "2.1020873930410744e-10\n",
      "2.1013857320895113e-10\n",
      "2.1036239417071556e-10\n",
      "2.1025758911719095e-10\n",
      "2.1042634301693397e-10\n",
      "2.1009860518006462e-10\n",
      "2.1047341647317808e-10\n",
      "2.1032420249866846e-10\n",
      "2.1005508443749932e-10\n",
      "2.1028601082662135e-10\n",
      "2.1033397246128516e-10\n",
      "2.1031887342815025e-10\n",
      "2.106919083644243e-10\n",
      "2.1021406837462564e-10\n",
      "2.1006485440011602e-10\n",
      "2.1030999164395325e-10\n",
      "2.1015367224208603e-10\n",
      "2.099511675623944e-10\n",
      "2.1088908397359774e-10\n",
      "2.1080737155898532e-10\n",
      "2.1002577454964921e-10\n",
      "2.1035173602967916e-10\n",
      "2.1049118004157208e-10\n",
      "2.1030999164395325e-10\n",
      "2.099653784171096e-10\n",
      "2.107274355012123e-10\n",
      "2.098730078614608e-10\n",
      "2.1021406837462564e-10\n",
      "2.0950707835254434e-10\n",
      "2.099653784171096e-10\n",
      "2.0980905901524238e-10\n",
      "2.1090329482831294e-10\n",
      "2.106030905224543e-10\n",
      "2.099795892718248e-10\n",
      "2.0939694422850152e-10\n",
      "2.099653784171096e-10\n",
      "2.1194068722252268e-10\n",
      "2.09887218716176e-10\n",
      "2.1053470078413739e-10\n",
      "2.1040769127012027e-10\n",
      "2.106377294808226e-10\n",
      "[0. 0. 0. 0. 0. 0. 0. 0. 0. 0. 0. 0. 0. 0. 0. 0. 0. 0. 0. 0. 0. 0. 0. 0.\n",
      " 0. 0. 0. 0. 0. 0. 0. 0. 0. 0. 0. 0. 0. 0. 0. 0. 0. 0. 0. 0. 0. 0. 0. 0.\n",
      " 0. 0. 0. 0. 0.]\n"
     ]
    }
   ],
   "metadata": {}
  },
  {
   "cell_type": "code",
   "execution_count": 24,
   "source": [
    "# relative separation between particle pairs\n",
    "R_loc = positions[:, 1, :, :]\n",
    "R_loc_init = positions[:, 1, :, 0]\n",
    "DR_loc = R_loc - R_loc_init[:, :, np.newaxis]\n",
    "R_12 = positions[:, 0, :, :] - R_loc\n",
    "R_32 = positions[:, 2, :, :] - R_loc\n",
    "# distance between particle pairs\n",
    "Dr_Loc = np.linalg.norm(DR_loc, axis=1)\n",
    "r_12 = np.linalg.norm(R_12, axis=1)\n",
    "r_32 = np.linalg.norm(R_32, axis=1)\n",
    "\n",
    "print(r_12[0, 0]-r_12[0, -1])\n",
    "print(time[0, -1] - 1.0)"
   ],
   "outputs": [
    {
     "output_type": "stream",
     "name": "stdout",
     "text": [
      "1.736761845450019e-10\n",
      "7.918110611626616e-12\n"
     ]
    }
   ],
   "metadata": {}
  },
  {
   "cell_type": "code",
   "execution_count": 25,
   "source": [
    "# relative velocities between particle pairs\n",
    "U_loc = velocities[:, 1, :, :]\n",
    "U_12 = velocities[:, 0, :, :] - U_loc\n",
    "U_32 = velocities[:, 2, :, :] - U_loc\n",
    "# relative velocity norms between particle pairs\n",
    "u_12 = np.linalg.norm(U_12, axis=0)\n",
    "u_32 = np.linalg.norm(U_32, axis=0)"
   ],
   "outputs": [],
   "metadata": {}
  },
  {
   "cell_type": "code",
   "execution_count": 26,
   "source": [
    " # Average locater point velocity\n",
    "U_loc_mean = np.mean(U_loc, axis=2)\n",
    "U_loc_mean_x = U_loc_mean[:, 0]\n",
    "\n",
    "print(U_loc_mean.shape)\n",
    "print(U_loc_mean_x)"
   ],
   "outputs": [
    {
     "output_type": "stream",
     "name": "stdout",
     "text": [
      "(53, 3)\n",
      "[ 9.8093719130640744e-02  8.5215153660758172e-02  8.1440483077825740e-02\n",
      "  7.7928232986463258e-02  5.2836094505237095e-02  4.4670414359441170e-02\n",
      "  3.8247900213850716e-02  3.3089382669166417e-02  2.8875429750148559e-02\n",
      "  2.5384690022200455e-02  2.2458878812655500e-02  9.8044402736371883e-02\n",
      "  1.9981824771323948e-02  1.6045923997949574e-02  1.3094015048722367e-02\n",
      "  1.0828339142636768e-02  9.0561795773012165e-03  7.6479188081020810e-03\n",
      "  6.5136151297305340e-03  5.5892203658258676e-03  4.8281160562057366e-03\n",
      "  4.1957270335918253e-03  9.7995127516833216e-02  3.6659882889393761e-03\n",
      "  3.2189665405364205e-03  2.8392226208148520e-03  2.5146614107183834e-03\n",
      "  2.2357099019000254e-03  1.9947205179305398e-03  1.5206862527859715e-03\n",
      "  1.1793154576197737e-03  9.2788926966611549e-04  7.3909140458565446e-04\n",
      "  9.7945893420623598e-02  5.9491122170296875e-04  4.8315724742055389e-04\n",
      "  3.9538609895990203e-04  3.2563135718675354e-04  1.5630371954474545e-04\n",
      "  7.6324091344670214e-05  3.4499727568979920e-05  1.0884676221251554e-05\n",
      " -2.4727462073507223e-05 -3.0622302766560222e-05  9.7455802971760944e-02\n",
      " -3.2223621821642543e-05 -3.2797161581466012e-05 -3.3042625390329692e-05\n",
      " -3.3161639432214375e-05  9.6009670057741692e-02  9.5065206369890035e-02\n",
      "  9.3677003552073049e-02  8.9282334005569050e-02]\n"
     ]
    }
   ],
   "metadata": {}
  },
  {
   "cell_type": "code",
   "execution_count": 27,
   "source": [
    "# Sort the average locater velocities by R_avg\n",
    "idx = np.argsort(R_avg)\n",
    "\n",
    "U_loc_mean_x_srt = U_loc_mean_x[idx]\n",
    "R_avg_srt = R_avg[idx]"
   ],
   "outputs": [],
   "metadata": {}
  },
  {
   "cell_type": "code",
   "execution_count": 28,
   "source": [
    "# Get average velocity when R_avg = 4.0 (what was done in internal dynamics plot)\n",
    "U_loc_mean_x_desired = U_loc_mean_x_srt[R_avg_srt == 4.0]\n",
    "print(f\"Average velocity over period of articulation: {U_loc_mean_x_desired}\")"
   ],
   "outputs": [
    {
     "output_type": "stream",
     "name": "stdout",
     "text": [
      "Average velocity over period of articulation: [0.0019947205179305]\n"
     ]
    }
   ],
   "metadata": {}
  },
  {
   "cell_type": "code",
   "execution_count": null,
   "source": [],
   "outputs": [],
   "metadata": {}
  }
 ],
 "metadata": {
  "orig_nbformat": 4,
  "language_info": {
   "name": "python",
   "version": "3.9.6",
   "mimetype": "text/x-python",
   "codemirror_mode": {
    "name": "ipython",
    "version": 3
   },
   "pygments_lexer": "ipython3",
   "nbconvert_exporter": "python",
   "file_extension": ".py"
  },
  "kernelspec": {
   "name": "python3",
   "display_name": "Python 3.9.6 64-bit"
  },
  "interpreter": {
   "hash": "a9c18bac4c89a725dce0e1ccc3bf66fe8f6b43684dbc7d5b407b057202688cd1"
  }
 },
 "nbformat": 4,
 "nbformat_minor": 2
}