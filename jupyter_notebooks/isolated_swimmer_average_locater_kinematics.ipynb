{
 "cells": [
  {
   "cell_type": "code",
   "execution_count": 1,
   "source": [
    "\n",
    "# External Dependencies\n",
    "import os                          # Access system file-tree\n",
    "import sys                         # Modify system parameters\n",
    "from math import isclose           # isclose()\n",
    "import numpy as np                 # Data structures\n",
    "from optparse import OptionParser  # Get user input\n",
    "import matplotlib.ticker as mticker  # Scientific notation in labels\n",
    "from matplotlib.ticker import FuncFormatter\n",
    "\n",
    "np.set_printoptions(threshold=sys.maxsize, precision=16)"
   ],
   "outputs": [],
   "metadata": {}
  },
  {
   "cell_type": "code",
   "execution_count": 2,
   "source": [
    "# Internal Dependencies\n",
    "internalPath = os.getcwd() + \"/../python\"\n",
    "print(internalPath)\n",
    "sys.path.insert(0, internalPath)\n",
    "from plotStyling import PlotStyling  # noqa: E402\n",
    "from GSDUtil import GSDUtil  # noqa: E402"
   ],
   "outputs": [
    {
     "output_type": "stream",
     "name": "stdout",
     "text": [
      "/home/aglisman/Dropbox/3_Brady_Lab/Code/potential-flow/bodies-in-potential-flow/jupyter_notebooks/../python\n"
     ]
    }
   ],
   "metadata": {}
  },
  {
   "cell_type": "code",
   "execution_count": 3,
   "source": [
    "# Parameters\n",
    "relative_path_base = os.getcwd() + \"/../data_tag/v1.0.0_output_last_frame\"\n",
    "relative_path = relative_path_base + \"/2021-08-27.09-57-48_collinear-swimmer_varyRelDisp\"\n",
    "output_dir = \"figures\"\n",
    "output_dir = relative_path + \"/\" + output_dir + \"/\"\n",
    "gsd_files = []\n",
    "epsOutput = True\n",
    "\n",
    "\n",
    "# Correctly get scientific notation in text elements\n",
    "def scientific(x, pos):\n",
    "    return '%0.2e' % x\n",
    "\n",
    "\n",
    "scientific_formatter = FuncFormatter(scientific)\n",
    "fmt = mticker.FuncFormatter(scientific_formatter)\n"
   ],
   "outputs": [],
   "metadata": {}
  },
  {
   "cell_type": "code",
   "execution_count": 33,
   "source": [
    "# Load data from GSD\n",
    "\n",
    "# Uncompress data\n",
    "os.system(f\"\\cat {relative_path}.tar.xz.parta* > {relative_path}.tar.xz\" )  # combine split files\n",
    "os.system(f\"tar xf {relative_path}.tar.xz\")  # untar data\n",
    "\n",
    "try:\n",
    "    # Loop through all subdirectories in the 'data' directory\n",
    "    for root, dirs, files in os.walk(relative_path, topdown=True):\n",
    "        dirs.sort()\n",
    "        files.sort()\n",
    "\n",
    "        for file in files:  # Loop through all files in given directory\n",
    "            if (\".gsd\" in file):\n",
    "                with open(root + \"/\" + file) as g:\n",
    "                    cur_gsd = GSDUtil(g.name, create_gsd=False)\n",
    "                    gsd_files.append(cur_gsd)\n",
    "\n",
    "    assert(len(gsd_files) > 0)\n",
    "\n",
    "except:  # No files found\n",
    "    raise IOError(\n",
    "        f\"Failure to load data. No files found in relPath {relative_path}\")\n",
    "\n",
    "\n",
    "# Remove decompressed data\n",
    "os.system(f\"rm -rf {relative_path}.tar.xz\")\n",
    "os.system(f\"rm -rf {relative_path}\")\n"
   ],
   "outputs": [
    {
     "output_type": "execute_result",
     "data": {
      "text/plain": [
       "0"
      ]
     },
     "metadata": {},
     "execution_count": 33
    }
   ],
   "metadata": {}
  },
  {
   "cell_type": "code",
   "execution_count": 6,
   "source": [
    "# Load data into np structures\n",
    "\n",
    "CoM_disp = np.zeros(len(gsd_files), dtype=np.double)\n",
    "R_avg = np.zeros_like(CoM_disp, dtype=np.double)\n",
    "phaseShift = np.zeros_like(CoM_disp, dtype=np.double)\n",
    "U0 = np.zeros_like(CoM_disp, dtype=np.double)\n",
    "omega = np.zeros_like(CoM_disp, dtype=np.double)\n",
    "epsilon = np.zeros_like(CoM_disp, dtype=np.double)\n",
    "final_t = np.zeros_like(CoM_disp, dtype=np.double)\n",
    "\n",
    "for i in range(len(gsd_files)):\n",
    "\n",
    "    # Data from final frame\n",
    "    gsd_files[i].snapshot = gsd_files[i].trajectory.read_frame(\n",
    "        gsd_files[i].trajectory.file.nframes - 1)\n",
    "    final_t[i] = gsd_files[i].snapshot.log['integrator/t']\n",
    "    CoM_disp_comp = gsd_files[i].snapshot.log['particles/double_position'][1]\n",
    "\n",
    "    # Data from initial frame (not 0)\n",
    "    gsd_files[i].snapshot = gsd_files[i].trajectory.read_frame(1)\n",
    "    R_avg[i] = gsd_files[i].snapshot.log['swimmer/R_avg']\n",
    "    phaseShift[i] = gsd_files[i].snapshot.log['swimmer/phase_shift']\n",
    "    U0[i] = gsd_files[i].snapshot.log['swimmer/U0']\n",
    "    omega[i] = gsd_files[i].snapshot.log['swimmer/omega']\n",
    "    epsilon[i] = U0[i] / R_avg[i] / omega[i]\n",
    "    CoM_disp_comp -= gsd_files[i].snapshot.log['particles/double_position'][1]\n",
    "\n",
    "    CoM_disp[i] = np.linalg.norm(CoM_disp_comp)"
   ],
   "outputs": [],
   "metadata": {}
  },
  {
   "cell_type": "code",
   "execution_count": 9,
   "source": [
    "# NOTE: Assuming each GSD has same number of frames\n",
    "nframes = gsd_files[0].trajectory.file.nframes\n",
    "\n",
    "# ANCHOR: Orientation vector (not unit norm)\n",
    "q = np.zeros((len(gsd_files), 3, nframes - 2), dtype=np.double)\n",
    "q0 = np.zeros((len(gsd_files), 3), dtype=np.double)\n",
    "\n",
    "# ANCHOR: temporal data\n",
    "time = np.zeros((len(gsd_files), nframes - 2), dtype=np.double)\n",
    "\n",
    "# ANCHOR: kinematic data (simulation_number, particle_number, dimension_number, frame_number)\n",
    "positions = np.zeros((len(gsd_files), 3, 3, nframes - 2), dtype=np.double)\n",
    "velocities = np.zeros_like(positions, dtype=np.double)\n",
    "accelerations = np.zeros_like(positions, dtype=np.double)"
   ],
   "outputs": [],
   "metadata": {}
  },
  {
   "cell_type": "code",
   "execution_count": 10,
   "source": [
    "for i in range(len(gsd_files)):  # loop over all GSD files\n",
    "\n",
    "    gsd_current = gsd_files[i]\n",
    "    q_current = np.zeros((3, nframes - 2), dtype=np.double)\n",
    "    q_current_norm = np.zeros((nframes - 2), dtype=np.double)\n",
    "\n",
    "    for j in range(1, nframes - 1):  # loop over all frames in GSD file\n",
    "\n",
    "        snapshot_current = gsd_current.trajectory.read_frame(j)\n",
    "\n",
    "        q_current[:, j - 1] = snapshot_current.log['particles/double_position'][0]\n",
    "        q_current[:, j - 1] -= snapshot_current.log['particles/double_position'][2]\n",
    "\n",
    "        time[i, j - 1] = snapshot_current.log['integrator/t']\n",
    "\n",
    "        positions[i, :, :, j -\n",
    "                  1] = snapshot_current.log['particles/double_position']\n",
    "        velocities[i, :, :, j -\n",
    "                   1] = snapshot_current.log['particles/double_velocity']\n",
    "        accelerations[i, :, :,  -\n",
    "                      1] = snapshot_current.log['particles/double_moment_inertia']\n",
    "\n",
    "    q[i, :, :] = q_current\n",
    "\n",
    "q0 = q[:, :, 0]"
   ],
   "outputs": [],
   "metadata": {}
  },
  {
   "cell_type": "code",
   "execution_count": 11,
   "source": [
    "q0 = q[:, :, 0]\n",
    "q0_norm = np.linalg.norm(q0, axis=1)\n",
    "q0 = np.divide(q0, q0_norm[:, np.newaxis])\n",
    "\n",
    "print(q0)"
   ],
   "outputs": [
    {
     "output_type": "stream",
     "name": "stdout",
     "text": [
      "[[1. 0. 0.]\n",
      " [1. 0. 0.]\n",
      " [1. 0. 0.]\n",
      " [1. 0. 0.]\n",
      " [1. 0. 0.]\n",
      " [1. 0. 0.]\n",
      " [1. 0. 0.]\n",
      " [1. 0. 0.]\n",
      " [1. 0. 0.]\n",
      " [1. 0. 0.]\n",
      " [1. 0. 0.]\n",
      " [1. 0. 0.]\n",
      " [1. 0. 0.]\n",
      " [1. 0. 0.]\n",
      " [1. 0. 0.]\n",
      " [1. 0. 0.]\n",
      " [1. 0. 0.]\n",
      " [1. 0. 0.]\n",
      " [1. 0. 0.]\n",
      " [1. 0. 0.]\n",
      " [1. 0. 0.]\n",
      " [1. 0. 0.]\n",
      " [1. 0. 0.]\n",
      " [1. 0. 0.]\n",
      " [1. 0. 0.]\n",
      " [1. 0. 0.]\n",
      " [1. 0. 0.]\n",
      " [1. 0. 0.]\n",
      " [1. 0. 0.]\n",
      " [1. 0. 0.]\n",
      " [1. 0. 0.]\n",
      " [1. 0. 0.]\n",
      " [1. 0. 0.]\n",
      " [1. 0. 0.]\n",
      " [1. 0. 0.]\n",
      " [1. 0. 0.]\n",
      " [1. 0. 0.]\n",
      " [1. 0. 0.]\n",
      " [1. 0. 0.]\n",
      " [1. 0. 0.]\n",
      " [1. 0. 0.]\n",
      " [1. 0. 0.]\n",
      " [1. 0. 0.]\n",
      " [1. 0. 0.]\n",
      " [1. 0. 0.]\n",
      " [1. 0. 0.]\n",
      " [1. 0. 0.]\n",
      " [1. 0. 0.]\n",
      " [1. 0. 0.]\n",
      " [1. 0. 0.]\n",
      " [1. 0. 0.]\n",
      " [1. 0. 0.]\n",
      " [1. 0. 0.]]\n"
     ]
    }
   ],
   "metadata": {}
  },
  {
   "cell_type": "code",
   "execution_count": 12,
   "source": [
    "# ANCHOR: Angular orientational displacement\n",
    "theta = np.zeros((len(gsd_files), nframes - 2), dtype=np.double)\n",
    "theta_norm = np.zeros((nframes - 2), dtype=np.double)\n",
    "\n",
    "for i in range(len(gsd_files)):\n",
    "\n",
    "    theta[i, :] = np.dot(q0[i, :].reshape(1, 3), q[i, :, :])\n",
    "\n",
    "    print(np.array(theta[i, 0] - theta[i, -1], dtype=np.double))\n",
    "\n",
    "    theta_norm = np.linalg.norm(q0[i, :]) * np.linalg.norm(q[i, :, :], axis=0)\n",
    "    theta[i, :] = theta[i, :] / theta_norm\n",
    "\n",
    "print(np.array(theta[:, 0] - theta[:, -1], dtype=np.double))"
   ],
   "outputs": [
    {
     "output_type": "stream",
     "name": "stdout",
     "text": [
      "2.1280754936015e-12\n",
      "1.7434942378713458e-12\n",
      "2.282618538629322e-12\n",
      "2.3501200985265314e-12\n",
      "2.008171406941983e-12\n",
      "2.213340621892712e-12\n",
      "1.9593215938584763e-12\n",
      "2.1174173525650986e-12\n",
      "2.2319923687064147e-12\n",
      "1.9744206269933784e-12\n",
      "2.0907719999740948e-12\n",
      "2.036593116372387e-12\n",
      "2.0028423364237824e-12\n",
      "2.1396218130576017e-12\n",
      "1.9877433032888803e-12\n",
      "2.147615418834903e-12\n",
      "2.1396218130576017e-12\n",
      "2.149391775674303e-12\n",
      "2.0046186932631826e-12\n",
      "2.0392576516314875e-12\n",
      "2.099653784171096e-12\n",
      "2.1040946762695967e-12\n",
      "2.2852830738884222e-12\n",
      "2.1174173525650986e-12\n",
      "2.0952128920725954e-12\n",
      "2.1440627051561023e-12\n",
      "2.099653784171096e-12\n",
      "2.136069099378801e-12\n",
      "2.2009061240169103e-12\n",
      "2.1085355683680973e-12\n",
      "2.1795898419441073e-12\n",
      "2.0872192862952943e-12\n",
      "2.0943247136528953e-12\n",
      "2.0303758674344863e-12\n",
      "2.113864638886298e-12\n",
      "2.1511681325137033e-12\n",
      "2.1156409957256983e-12\n",
      "2.05702122002549e-12\n",
      "2.0339285811132868e-12\n",
      "2.3447910280083306e-12\n",
      "2.1529444893531036e-12\n",
      "2.0250467969162855e-12\n",
      "2.0747847884194925e-12\n",
      "2.1600499167107046e-12\n",
      "2.120081887824199e-12\n",
      "2.1316282072803006e-12\n",
      "2.1884716261411086e-12\n",
      "2.1316282072803006e-12\n",
      "2.2595258997171186e-12\n",
      "2.2808421817899216e-12\n",
      "2.178701663524407e-12\n",
      "1.9628743075372768e-12\n",
      "2.027711332175386e-12\n",
      "[0. 0. 0. 0. 0. 0. 0. 0. 0. 0. 0. 0. 0. 0. 0. 0. 0. 0. 0. 0. 0. 0. 0. 0.\n",
      " 0. 0. 0. 0. 0. 0. 0. 0. 0. 0. 0. 0. 0. 0. 0. 0. 0. 0. 0. 0. 0. 0. 0. 0.\n",
      " 0. 0. 0. 0. 0.]\n"
     ]
    }
   ],
   "metadata": {}
  },
  {
   "cell_type": "code",
   "execution_count": 17,
   "source": [
    "# relative separation between particle pairs\n",
    "R_loc = positions[:, 1, :, :]\n",
    "R_loc_init = positions[:, 1, :, 0]\n",
    "DR_loc = R_loc - R_loc_init[:, :, np.newaxis]\n",
    "R_12 = positions[:, 0, :, :] - R_loc\n",
    "R_32 = positions[:, 2, :, :] - R_loc\n",
    "# distance between particle pairs\n",
    "Dr_Loc = np.linalg.norm(DR_loc, axis=1)\n",
    "r_12 = np.linalg.norm(R_12, axis=1)\n",
    "r_32 = np.linalg.norm(R_32, axis=1)\n",
    "\n",
    "print(r_12[0, 0]-r_12[0, -1])\n",
    "print(time[0, -1] - 1.0)"
   ],
   "outputs": [
    {
     "output_type": "stream",
     "name": "stdout",
     "text": [
      "1.6888712650597881e-12\n",
      "7.918110611626616e-12\n"
     ]
    }
   ],
   "metadata": {}
  },
  {
   "cell_type": "code",
   "execution_count": 19,
   "source": [
    "# relative velocities between particle pairs\n",
    "U_loc = velocities[:, 1, :, :]\n",
    "U_12 = velocities[:, 0, :, :] - U_loc\n",
    "U_32 = velocities[:, 2, :, :] - U_loc\n",
    "# relative velocity norms between particle pairs\n",
    "u_12 = np.linalg.norm(U_12, axis=0)\n",
    "u_32 = np.linalg.norm(U_32, axis=0)"
   ],
   "outputs": [],
   "metadata": {}
  },
  {
   "cell_type": "code",
   "execution_count": 26,
   "source": [
    " # Average locater point velocity\n",
    "U_loc_mean = np.mean(U_loc, axis=2)\n",
    "U_loc_mean_x = U_loc_mean[:, 0]\n",
    "\n",
    "print(U_loc_mean.shape)\n",
    "print(U_loc_mean_x)"
   ],
   "outputs": [
    {
     "output_type": "stream",
     "name": "stdout",
     "text": [
      "(53, 3)\n",
      "[-2.8299801359930215e-07 -4.7687216846066626e-07 -5.3935357689096476e-07\n",
      " -6.0006771126101369e-07 -1.1224830084724665e-06 -1.3354430601570715e-06\n",
      " -1.5226556656712175e-06 -1.6878749434212104e-06 -1.8342132890691488e-06\n",
      " -1.9642671517280209e-06 -2.0802150533525125e-06 -2.8368843553759319e-07\n",
      " -2.1838946487696874e-06 -2.3604492858694775e-06 -2.5038490256681387e-06\n",
      " -2.6214021710910996e-06 -2.7185761539736367e-06 -2.7995168054305010e-06\n",
      " -2.8674061788490447e-06 -2.9247135420677537e-06 -2.9733742702476816e-06\n",
      " -3.0149192018061198e-06 -2.8437865300696377e-07 -3.0505694017404338e-06\n",
      " -3.0813064254907255e-06 -3.1079249818885369e-06 -3.1310728136941752e-06\n",
      " -3.1512811713569759e-06 -3.1689883115453250e-06 -3.2045530255079131e-06\n",
      " -3.2308346282663532e-06 -3.2505975295316670e-06 -3.2656897675632945e-06\n",
      " -2.8506866689758883e-07 -3.2773751472601301e-06 -3.2865355217545935e-06\n",
      " -3.2937974100531897e-06 -3.2996132029680430e-06 -3.3139031634676607e-06\n",
      " -3.3207348247587242e-06 -3.3243198399988841e-06 -3.3263408329538452e-06\n",
      " -3.3293443933195242e-06 -3.3298150689369971e-06 -2.9195761019840173e-07\n",
      " -3.3299344697907257e-06 -3.3299740824433223e-06 -3.3299896670247886e-06\n",
      " -3.3299965558213481e-06 -3.1250292888172737e-07 -3.2609929554385860e-07\n",
      " -3.4634455636894825e-07 -4.1255847869272411e-07]\n"
     ]
    }
   ],
   "metadata": {}
  },
  {
   "cell_type": "code",
   "execution_count": 28,
   "source": [
    "# Sort the average locater velocities by R_avg\n",
    "idx = np.argsort(R_avg)\n",
    "\n",
    "U_loc_mean_x_srt = U_loc_mean_x[idx]\n",
    "R_avg_srt = R_avg[idx]"
   ],
   "outputs": [],
   "metadata": {}
  },
  {
   "cell_type": "code",
   "execution_count": 31,
   "source": [
    "# Get average velocity when R_avg = 4.0 (what was done in internal dynamics plot)\n",
    "U_loc_mean_x_desired = U_loc_mean_x_srt[R_avg_srt == 4.0]\n",
    "print(f\"Average velocity over period of articulation: {U_loc_mean_x_desired}\")"
   ],
   "outputs": [
    {
     "output_type": "stream",
     "name": "stdout",
     "text": [
      "Average velocity over period of articulation: [-3.168988311545325e-06]\n"
     ]
    }
   ],
   "metadata": {}
  },
  {
   "cell_type": "code",
   "execution_count": null,
   "source": [],
   "outputs": [],
   "metadata": {}
  }
 ],
 "metadata": {
  "orig_nbformat": 4,
  "language_info": {
   "name": "python",
   "version": "3.9.6",
   "mimetype": "text/x-python",
   "codemirror_mode": {
    "name": "ipython",
    "version": 3
   },
   "pygments_lexer": "ipython3",
   "nbconvert_exporter": "python",
   "file_extension": ".py"
  },
  "kernelspec": {
   "name": "python3",
   "display_name": "Python 3.9.6 64-bit"
  },
  "interpreter": {
   "hash": "a9c18bac4c89a725dce0e1ccc3bf66fe8f6b43684dbc7d5b407b057202688cd1"
  }
 },
 "nbformat": 4,
 "nbformat_minor": 2
}