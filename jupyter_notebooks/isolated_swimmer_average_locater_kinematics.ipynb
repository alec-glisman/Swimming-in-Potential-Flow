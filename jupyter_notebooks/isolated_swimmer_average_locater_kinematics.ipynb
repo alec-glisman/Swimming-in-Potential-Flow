{
 "cells": [
  {
   "cell_type": "code",
   "execution_count": 1,
   "source": [
    "\n",
    "# External Dependencies\n",
    "import os                          # Access system file-tree\n",
    "import sys                         # Modify system parameters\n",
    "from math import isclose           # isclose()\n",
    "import numpy as np                 # Data structures\n",
    "from optparse import OptionParser  # Get user input\n",
    "import matplotlib.ticker as mticker  # Scientific notation in labels\n",
    "from matplotlib.ticker import FuncFormatter\n",
    "\n",
    "np.set_printoptions(threshold=sys.maxsize, precision=16)"
   ],
   "outputs": [],
   "metadata": {}
  },
  {
   "cell_type": "code",
   "execution_count": 2,
   "source": [
    "# Internal Dependencies\n",
    "internalPath = os.getcwd() + \"/../python\"\n",
    "print(internalPath)\n",
    "sys.path.insert(0, internalPath)\n",
    "from plotStyling import PlotStyling  # noqa: E402\n",
    "from GSDUtil import GSDUtil  # noqa: E402"
   ],
   "outputs": [
    {
     "output_type": "stream",
     "name": "stdout",
     "text": [
      "/home/aglisman/Dropbox/3_Brady_Lab/Code/potential-flow/bodies-in-potential-flow/jupyter_notebooks/../python\n"
     ]
    }
   ],
   "metadata": {}
  },
  {
   "cell_type": "code",
   "execution_count": 3,
   "source": [
    "# Parameters\n",
    "relative_path = os.getcwd() + \\\n",
    "    \"/../data_tag/v1.0.0/2021-08-19.14-24-14_collinear-swimmer_varyRelDisp\"\n",
    "output_dir = \"figures\"\n",
    "output_dir = relative_path + \"/\" + output_dir + \"/\"\n",
    "gsd_files = []\n",
    "epsOutput = True\n",
    "\n",
    "\n",
    "# Correctly get scientific notation in text elements\n",
    "def scientific(x, pos):\n",
    "    return '%0.2e' % x\n",
    "\n",
    "\n",
    "scientific_formatter = FuncFormatter(scientific)\n",
    "fmt = mticker.FuncFormatter(scientific_formatter)\n"
   ],
   "outputs": [],
   "metadata": {}
  },
  {
   "cell_type": "code",
   "execution_count": 4,
   "source": [
    "# Load data from GSD\n",
    "\n",
    "try:\n",
    "    # Loop through all subdirectories in the 'data' directory\n",
    "    for root, dirs, files in os.walk(relative_path, topdown=True):\n",
    "        dirs.sort()\n",
    "        files.sort()\n",
    "\n",
    "        for file in files:  # Loop through all files in given directory\n",
    "            if (\".gsd\" in file):\n",
    "                with open(root + \"/\" + file) as g:\n",
    "                    cur_gsd = GSDUtil(g.name, create_gsd=False)\n",
    "                    gsd_files.append(cur_gsd)\n",
    "\n",
    "    assert(len(gsd_files) > 0)\n",
    "\n",
    "except:  # No files found\n",
    "    raise IOError(\n",
    "        f\"Failure to load data. No files found in relPath {relative_path}\")"
   ],
   "outputs": [],
   "metadata": {}
  },
  {
   "cell_type": "code",
   "execution_count": 7,
   "source": [
    "# Load data into np structures\n",
    "\n",
    "CoM_disp = np.zeros(len(gsd_files), dtype=np.double)\n",
    "R_avg = np.zeros_like(CoM_disp, dtype=np.double)\n",
    "Z_height = np.zeros_like(CoM_disp, dtype=np.double)\n",
    "phaseShift = np.zeros_like(CoM_disp, dtype=np.double)\n",
    "U0 = np.zeros_like(CoM_disp, dtype=np.double)\n",
    "omega = np.zeros_like(CoM_disp, dtype=np.double)\n",
    "epsilon = np.zeros_like(CoM_disp, dtype=np.double)\n",
    "final_t = np.zeros_like(CoM_disp, dtype=np.double)\n",
    "\n",
    "for i in range(len(gsd_files)):\n",
    "\n",
    "    # Data from final frame\n",
    "    gsd_files[i].snapshot = gsd_files[i].trajectory.read_frame(\n",
    "        gsd_files[i].trajectory.file.nframes - 1)\n",
    "    final_t[i] = gsd_files[i].snapshot.log['integrator/t']\n",
    "    CoM_disp_comp = gsd_files[i].snapshot.log['particles/double_position'][1]\n",
    "\n",
    "    # Data from initial frame (not 0)\n",
    "    gsd_files[i].snapshot = gsd_files[i].trajectory.read_frame(1)\n",
    "    R_avg[i] = gsd_files[i].snapshot.log['swimmer/R_avg']\n",
    "    Z_height[i] = gsd_files[i].snapshot.log['swimmer/Z_height']\n",
    "    phaseShift[i] = gsd_files[i].snapshot.log['swimmer/phase_shift']\n",
    "    U0[i] = gsd_files[i].snapshot.log['swimmer/U0']\n",
    "    omega[i] = gsd_files[i].snapshot.log['swimmer/omega']\n",
    "    epsilon[i] = U0[i] / R_avg[i] / omega[i]\n",
    "    CoM_disp_comp -= gsd_files[i].snapshot.log['particles/double_position'][1]\n",
    "\n",
    "    CoM_disp[i] = np.linalg.norm(CoM_disp_comp)"
   ],
   "outputs": [],
   "metadata": {}
  },
  {
   "cell_type": "code",
   "execution_count": 8,
   "source": [
    "# NOTE: Assuming each GSD has same number of frames\n",
    "nframes = gsd_files[0].trajectory.file.nframes\n",
    "\n",
    "# ANCHOR: Orientation vector (not unit norm)\n",
    "q = np.zeros((len(gsd_files), 3, nframes - 2), dtype=np.double)\n",
    "q0 = np.zeros((len(gsd_files), 3), dtype=np.double)\n",
    "\n",
    "# ANCHOR: temporal data\n",
    "time = np.zeros((len(gsd_files), nframes - 2), dtype=np.double)\n",
    "\n",
    "# ANCHOR: kinematic data (simulation_number, particle_number, dimension_number, frame_number)\n",
    "positions = np.zeros((len(gsd_files), 6, 3, nframes - 2), dtype=np.double)\n",
    "velocities = np.zeros_like(positions, dtype=np.double)\n",
    "accelerations = np.zeros_like(positions, dtype=np.double)"
   ],
   "outputs": [],
   "metadata": {}
  },
  {
   "cell_type": "code",
   "execution_count": 9,
   "source": [
    "for i in range(len(gsd_files)):  # loop over all GSD files\n",
    "\n",
    "    gsd_current = gsd_files[i]\n",
    "    q_current = np.zeros((3, nframes - 2), dtype=np.double)\n",
    "    q_current_norm = np.zeros((nframes - 2), dtype=np.double)\n",
    "\n",
    "    for j in range(1, nframes - 1):  # loop over all frames in GSD file\n",
    "\n",
    "        snapshot_current = gsd_current.trajectory.read_frame(j)\n",
    "\n",
    "        q_current[:, j - 1] = snapshot_current.log['particles/double_position'][0]\n",
    "        q_current[:, j - 1] -= snapshot_current.log['particles/double_position'][2]\n",
    "\n",
    "        time[i, j - 1] = snapshot_current.log['integrator/t']\n",
    "\n",
    "        positions[i, :, :, j -\n",
    "                  1] = snapshot_current.log['particles/double_position']\n",
    "        velocities[i, :, :, j -\n",
    "                   1] = snapshot_current.log['particles/double_velocity']\n",
    "        accelerations[i, :, :,  -\n",
    "                      1] = snapshot_current.log['particles/double_moment_inertia']\n",
    "\n",
    "    q[i, :, :] = q_current\n",
    "\n",
    "q0 = q[:, :, 0]"
   ],
   "outputs": [],
   "metadata": {}
  },
  {
   "cell_type": "code",
   "execution_count": 10,
   "source": [
    "q0 = q[:, :, 0]\n",
    "q0_norm = np.linalg.norm(q0, axis=1)\n",
    "q0 = np.divide(q0, q0_norm[:, np.newaxis])\n",
    "\n",
    "print(q0)"
   ],
   "outputs": [
    {
     "output_type": "stream",
     "name": "stdout",
     "text": [
      "[[1. 0. 0.]\n",
      " [1. 0. 0.]\n",
      " [1. 0. 0.]\n",
      " [1. 0. 0.]\n",
      " [1. 0. 0.]\n",
      " [1. 0. 0.]\n",
      " [1. 0. 0.]\n",
      " [1. 0. 0.]\n",
      " [1. 0. 0.]\n",
      " [1. 0. 0.]\n",
      " [1. 0. 0.]\n",
      " [1. 0. 0.]]\n"
     ]
    }
   ],
   "metadata": {}
  },
  {
   "cell_type": "code",
   "execution_count": 11,
   "source": [
    "# ANCHOR: Angular orientational displacement\n",
    "theta = np.zeros((len(gsd_files), nframes - 2), dtype=np.double)\n",
    "theta_norm = np.zeros((nframes - 2), dtype=np.double)\n",
    "\n",
    "for i in range(len(gsd_files)):\n",
    "\n",
    "    theta[i, :] = np.dot(q0[i, :].reshape(1, 3), q[i, :, :])\n",
    "\n",
    "    print(np.array(theta[i, 0] - theta[i, -1], dtype=np.double))\n",
    "\n",
    "    theta_norm = np.linalg.norm(q0[i, :]) * np.linalg.norm(q[i, :, :], axis=0)\n",
    "    theta[i, :] = theta[i, :] / theta_norm\n",
    "\n",
    "print(np.array(theta[:, 0] - theta[:, -1], dtype=np.double))"
   ],
   "outputs": [
    {
     "output_type": "stream",
     "name": "stdout",
     "text": [
      "0.16874625556592449\n",
      "0.1687462555657575\n",
      "0.16874625555698053\n",
      "0.16874625554228295\n",
      "0.16874625557531608\n",
      "0.16874625555073308\n",
      "0.1687462555857877\n",
      "0.1687462555904471\n",
      "0.16874625554712352\n",
      "0.16874625557140988\n",
      "0.1687462555512873\n",
      "0.16874625559836076\n",
      "[0. 0. 0. 0. 0. 0. 0. 0. 0. 0. 0. 0.]\n"
     ]
    }
   ],
   "metadata": {}
  },
  {
   "cell_type": "code",
   "execution_count": 12,
   "source": [
    "# relative separation between particle pairs\n",
    "R_loc = positions[:, 1, :, :]\n",
    "R_loc_init = positions[:, 1, :, 0]\n",
    "DR_loc = R_loc - R_loc_init[:, :, np.newaxis]\n",
    "R_12 = positions[:, 0, :, :] - R_loc\n",
    "R_32 = positions[:, 2, :, :] - R_loc\n",
    "# distance between particle pairs\n",
    "Dr_Loc = np.linalg.norm(DR_loc, axis=1)\n",
    "r_12 = np.linalg.norm(R_12, axis=1)\n",
    "r_32 = np.linalg.norm(R_32, axis=1)\n",
    "\n",
    "print(r_12[0, 0]-r_12[0, -1])\n",
    "print(time[0, -1]-24.0)"
   ],
   "outputs": [
    {
     "output_type": "stream",
     "name": "stdout",
     "text": [
      "0.15643459134265347\n",
      "0.9750000040030216\n"
     ]
    }
   ],
   "metadata": {}
  },
  {
   "cell_type": "code",
   "execution_count": null,
   "source": [],
   "outputs": [],
   "metadata": {}
  }
 ],
 "metadata": {
  "orig_nbformat": 4,
  "language_info": {
   "name": "python",
   "version": "3.9.6",
   "mimetype": "text/x-python",
   "codemirror_mode": {
    "name": "ipython",
    "version": 3
   },
   "pygments_lexer": "ipython3",
   "nbconvert_exporter": "python",
   "file_extension": ".py"
  },
  "kernelspec": {
   "name": "python3",
   "display_name": "Python 3.9.6 64-bit"
  },
  "interpreter": {
   "hash": "a9c18bac4c89a725dce0e1ccc3bf66fe8f6b43684dbc7d5b407b057202688cd1"
  }
 },
 "nbformat": 4,
 "nbformat_minor": 2
}