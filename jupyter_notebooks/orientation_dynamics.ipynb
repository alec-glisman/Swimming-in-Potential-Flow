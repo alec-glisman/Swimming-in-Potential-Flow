{
 "cells": [
  {
   "cell_type": "code",
   "execution_count": null,
   "source": [
    "# External Dependencies\n",
    "import os                          # Access system file-tree\n",
    "import sys                         # Modify system parameters\n",
    "from math import isclose           # isclose()\n",
    "import numpy as np                 # Data structures\n",
    "from optparse import OptionParser  # Get user input\n",
    "import matplotlib.ticker as mticker  # Scientific notation in labels\n",
    "from matplotlib.ticker import FuncFormatter\n",
    "\n",
    "# Internal Dependencies\n",
    "sys.path.insert(0, os.getcwd() + '/python')\n",
    "from plotStyling import PlotStyling  # noqa: E402\n",
    "from GSDUtil import GSDUtil  # noqa: E402"
   ],
   "outputs": [],
   "metadata": {}
  },
  {
   "cell_type": "code",
   "execution_count": null,
   "source": [],
   "outputs": [],
   "metadata": {}
  }
 ],
 "metadata": {
  "orig_nbformat": 4,
  "language_info": {
   "name": "python"
  }
 },
 "nbformat": 4,
 "nbformat_minor": 2
}